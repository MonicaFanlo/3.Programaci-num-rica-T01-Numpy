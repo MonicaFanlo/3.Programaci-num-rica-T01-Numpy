{
 "cells": [
  {
   "cell_type": "markdown",
   "id": "213fa5ac",
   "metadata": {},
   "source": [
    "## Exercici 1\n"
   ]
  },
  {
   "cell_type": "code",
   "execution_count": 11,
   "id": "5415f216",
   "metadata": {},
   "outputs": [
    {
     "name": "stdout",
     "output_type": "stream",
     "text": [
      "Mitjana: 3.5 \n",
      "Mediana: 3.5 \n",
      "Variança: 2.9166666666666665 \n",
      "Rang: 5 \n",
      "Mínim: 1 \n",
      "Per 25%: 2.25 \n",
      "Per 50%: 3.5 \n",
      "Perc 75%: 4.75 \n",
      "Màxim: 6\n",
      "[1 2 3 4 5 6]\n"
     ]
    }
   ],
   "source": [
    "import numpy as np\n",
    "from numpy import random\n",
    "\n",
    "def resum_estadistic(a):\n",
    "    if a.ndim == 1:\n",
    "        media = np.mean(a)\n",
    "        mediana =np.median(a)\n",
    "        varianza = np.var(a)\n",
    "        rang = np.ptp(a)\n",
    "        minim = np.amin(a)\n",
    "        perc25 = np.percentile(a,25)\n",
    "        perc50 = np.percentile(a,50)\n",
    "        perc75 = np.percentile(a,75)\n",
    "        maxim = np.amax(a)  \n",
    "        print('Mitjana:', media,'\\nMediana:', mediana, '\\nVariança:', varianza,'\\nRang:', rang, '\\nMínim:', minim,\n",
    "             '\\nPer 25%:', perc25, '\\nPer 50%:',perc50, '\\nPerc 75%:', perc75,'\\nMàxim:',maxim)\n",
    "        print(a)\n",
    "    else:   \n",
    "        print(\"Error. L'array només pot tenir una dimensió\")\n",
    "        \n",
    "\n",
    "arr0 = np.array(8)\n",
    "arr1 = np.array([1,2,3,4,5,6])\n",
    "arr1a = random.randint(100, size=(20))\n",
    "arr2 = np.array([[1, 2, 3], [4, 5, 6]])\n",
    "\n",
    "resum_estadistic(arr1)\n"
   ]
  },
  {
   "cell_type": "markdown",
   "id": "8708669c",
   "metadata": {},
   "source": [
    "## Exercici 2\n"
   ]
  },
  {
   "cell_type": "code",
   "execution_count": 12,
   "id": "5dbc3f15",
   "metadata": {},
   "outputs": [
    {
     "name": "stdout",
     "output_type": "stream",
     "text": [
      "[[12 85 49 30]\n",
      " [43 23 33 57]\n",
      " [ 7 19 67 99]\n",
      " [ 4 24 86 49]]\n"
     ]
    }
   ],
   "source": [
    "def aleatoris(n):\n",
    "    return random.randint(100,size=(n,n))\n",
    "                          \n",
    "n = 4\n",
    "#n = 10\n",
    "print(aleatoris(n))   "
   ]
  },
  {
   "cell_type": "markdown",
   "id": "a5681ad7",
   "metadata": {},
   "source": [
    "## Exercici 3"
   ]
  },
  {
   "cell_type": "code",
   "execution_count": 13,
   "id": "3fe1dd1e",
   "metadata": {},
   "outputs": [
    {
     "name": "stdout",
     "output_type": "stream",
     "text": [
      "La matriu és:\n",
      " [[3 6 4]\n",
      " [0 6 7]\n",
      " [8 2 9]\n",
      " [0 2 8]]\n",
      "Els totals per fila són: [13 13 19 10]\n",
      "Els totals per columna són [11 16 28]\n"
     ]
    }
   ],
   "source": [
    "def totals(a):\n",
    "    sum_files = np.sum(a, axis=1)\n",
    "    sum_col = np.sum(a, axis=0)\n",
    "    print('La matriu és:\\n',a)\n",
    "    print('Els totals per fila són:', sum_files)\n",
    "    print('Els totals per columna són', sum_col)\n",
    "   \n",
    "n=4\n",
    "m=3\n",
    "a =random.randint(10,size=(n,m))\n",
    "\n",
    "totals(a)  "
   ]
  },
  {
   "cell_type": "markdown",
   "id": "448c4f7c",
   "metadata": {},
   "source": [
    "## Exercici 4"
   ]
  },
  {
   "cell_type": "code",
   "execution_count": 9,
   "id": "33450c8f",
   "metadata": {},
   "outputs": [
    {
     "data": {
      "text/plain": [
       "-0.4164613615708485"
      ]
     },
     "execution_count": 9,
     "metadata": {},
     "output_type": "execute_result"
    }
   ],
   "source": [
    "import numpy as np\n",
    "\n",
    "a1 = np.array([2, 4, 8, 1,1])\n",
    "a2 = np.array([1, 3, 3, 5,8])\n",
    "\n",
    "\n",
    "def correl(a1,a2):\n",
    "    numerador = np.sum((a1-np.mean(a1)) * (a2-np.mean(a2)))  \n",
    "    denominador = np.sqrt((np.sum((a1-np.mean(a1))**2)) * (np.sum((a2-np.mean(a2))**2)))\n",
    "    c_corr = numerador/denominador\n",
    "    return c_corr\n",
    "\n",
    "correl(a1,a2)"
   ]
  },
  {
   "cell_type": "code",
   "execution_count": 10,
   "id": "4c1c092e",
   "metadata": {},
   "outputs": [
    {
     "data": {
      "text/plain": [
       "array([[ 1.        , -0.41646136],\n",
       "       [-0.41646136,  1.        ]])"
      ]
     },
     "execution_count": 10,
     "metadata": {},
     "output_type": "execute_result"
    }
   ],
   "source": [
    "np.corrcoef(a1,a2)"
   ]
  },
  {
   "cell_type": "code",
   "execution_count": null,
   "id": "464a7bde",
   "metadata": {},
   "outputs": [],
   "source": []
  }
 ],
 "metadata": {
  "kernelspec": {
   "display_name": "Python 3 (ipykernel)",
   "language": "python",
   "name": "python3"
  },
  "language_info": {
   "codemirror_mode": {
    "name": "ipython",
    "version": 3
   },
   "file_extension": ".py",
   "mimetype": "text/x-python",
   "name": "python",
   "nbconvert_exporter": "python",
   "pygments_lexer": "ipython3",
   "version": "3.9.12"
  }
 },
 "nbformat": 4,
 "nbformat_minor": 5
}
